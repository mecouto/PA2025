{
  "nbformat": 4,
  "nbformat_minor": 0,
  "metadata": {
    "colab": {
      "provenance": [],
      "authorship_tag": "ABX9TyN/V6pe4ogh9/FJLoQxfRDp",
      "include_colab_link": true
    },
    "kernelspec": {
      "name": "python3",
      "display_name": "Python 3"
    },
    "language_info": {
      "name": "python"
    }
  },
  "cells": [
    {
      "cell_type": "markdown",
      "metadata": {
        "id": "view-in-github",
        "colab_type": "text"
      },
      "source": [
        "<a href=\"https://colab.research.google.com/github/mecouto/PA2025/blob/main/Variaveis_e_operadores_aritimeticos/variaveisconstantes.ipynb\" target=\"_parent\"><img src=\"https://colab.research.google.com/assets/colab-badge.svg\" alt=\"Open In Colab\"/></a>"
      ]
    },
    {
      "cell_type": "markdown",
      "source": [
        "Variaveis constantes"
      ],
      "metadata": {
        "id": "v3UHuuYkgWO-"
      }
    },
    {
      "cell_type": "code",
      "execution_count": null,
      "metadata": {
        "id": "qQGpeZAWgO7R"
      },
      "outputs": [],
      "source": [
        "idade = 15\n",
        "altura = 1,64\n",
        "nome = \"Maria Eduarda\"\n",
        "vai = True"
      ]
    },
    {
      "cell_type": "code",
      "source": [
        "nomes = [\"Maria Eduarda\", \"Alana\"]\n",
        "nomes2 = (\"Manuella\", \"Helloisa\")\n",
        "tudo = {\"nome\": \"Maria Eduarda\", \"idade\": 15, \"altura\":1.64}"
      ],
      "metadata": {
        "id": "5qc50sbziarr"
      },
      "execution_count": null,
      "outputs": []
    },
    {
      "cell_type": "code",
      "source": [
        "print (nome)\n",
        "print (nomes)\n",
        "print (nomes2)\n",
        "print (tudo)"
      ],
      "metadata": {
        "colab": {
          "base_uri": "https://localhost:8080/"
        },
        "id": "o7C9S1NNjNRu",
        "outputId": "19f9e134-d183-4429-c2af-7b4735cc19b6"
      },
      "execution_count": null,
      "outputs": [
        {
          "output_type": "stream",
          "name": "stdout",
          "text": [
            "Maria Eduarda\n",
            "['Maria Eduarda', 'Alana']\n",
            "('Manuella', 'Helloisa')\n",
            "{'nome': 'Maria Eduarda', 'idade': 15, 'altura': 1.64}\n"
          ]
        }
      ]
    },
    {
      "cell_type": "code",
      "source": [
        "print (type(idade))\n",
        "print (type(altura))\n",
        "print (type(vai))\n",
        "print (type(nome))\n",
        "print (type(nomes))\n",
        "print (type(nomes2))"
      ],
      "metadata": {
        "colab": {
          "base_uri": "https://localhost:8080/"
        },
        "id": "QB7uWniQkLfB",
        "outputId": "4daf2ac2-5971-4f3f-cf0c-19503aefe918"
      },
      "execution_count": null,
      "outputs": [
        {
          "output_type": "stream",
          "name": "stdout",
          "text": [
            "<class 'int'>\n",
            "<class 'tuple'>\n",
            "<class 'bool'>\n",
            "<class 'str'>\n",
            "<class 'list'>\n",
            "<class 'tuple'>\n"
          ]
        }
      ]
    },
    {
      "cell_type": "code",
      "source": [
        "print (\"o nome dela é:\", nome, \",sua idade é:\", idade, \"anos\", \",ela tem\", altura, \"metros\")"
      ],
      "metadata": {
        "colab": {
          "base_uri": "https://localhost:8080/"
        },
        "id": "s9yGJ-ecpS5J",
        "outputId": "6f467984-0bc7-4703-9694-9ceeb4268453"
      },
      "execution_count": null,
      "outputs": [
        {
          "output_type": "stream",
          "name": "stdout",
          "text": [
            "o nome dela é: Maria Eduarda ,sua idade é: 15 anos ,ela tem (1, 64) metros\n"
          ]
        }
      ]
    },
    {
      "cell_type": "code",
      "source": [
        "print(f\"nome: {nome}, altura: {altura}\")"
      ],
      "metadata": {
        "colab": {
          "base_uri": "https://localhost:8080/"
        },
        "id": "cC6oB6v0sOXh",
        "outputId": "717d2438-f03b-4859-de7e-dbd45134b997"
      },
      "execution_count": null,
      "outputs": [
        {
          "output_type": "stream",
          "name": "stdout",
          "text": [
            "nome: Maria Eduarda, altura: (1, 64)\n"
          ]
        }
      ]
    },
    {
      "cell_type": "markdown",
      "source": [
        "Área do círculo"
      ],
      "metadata": {
        "id": "9pCzXkQaveOv"
      }
    },
    {
      "cell_type": "code",
      "source": [
        "PI = 3.14159\n",
        "raio = float(input(\"Digite o valor do raio do círculo\"))"
      ],
      "metadata": {
        "colab": {
          "base_uri": "https://localhost:8080/"
        },
        "id": "qTJbSyCavlVm",
        "outputId": "6c9efebd-26c9-4662-967d-006dfb1c96e6"
      },
      "execution_count": null,
      "outputs": [
        {
          "name": "stdout",
          "output_type": "stream",
          "text": [
            "Digite o valor do raio do círculo05\n"
          ]
        }
      ]
    },
    {
      "cell_type": "code",
      "source": [
        "areacir = PI * (raio**2)"
      ],
      "metadata": {
        "id": "9C6tYLC0wYac"
      },
      "execution_count": null,
      "outputs": []
    },
    {
      "cell_type": "code",
      "source": [
        "print(f\"A área do círculo é {areacir}\")"
      ],
      "metadata": {
        "colab": {
          "base_uri": "https://localhost:8080/"
        },
        "id": "pnLDp0IIxdKR",
        "outputId": "962e1183-585c-457b-c4b0-82375679afac"
      },
      "execution_count": null,
      "outputs": [
        {
          "output_type": "stream",
          "name": "stdout",
          "text": [
            "A área do círculo é 78.53975\n"
          ]
        }
      ]
    },
    {
      "cell_type": "markdown",
      "source": [
        "Área do quadrado"
      ],
      "metadata": {
        "id": "xzucegl_08Pc"
      }
    },
    {
      "cell_type": "code",
      "source": [
        "lado = float(input(\"Digite o valor do lado do quadrado\"))"
      ],
      "metadata": {
        "colab": {
          "base_uri": "https://localhost:8080/"
        },
        "id": "4pTgEJrT1HF0",
        "outputId": "d564a076-f8c8-425e-ec23-f801baeafd51"
      },
      "execution_count": null,
      "outputs": [
        {
          "name": "stdout",
          "output_type": "stream",
          "text": [
            "Digite o valor do lao do quadrado6\n"
          ]
        }
      ]
    },
    {
      "cell_type": "code",
      "source": [
        "areaqua = lado **2"
      ],
      "metadata": {
        "id": "JS98VR9H1iUZ"
      },
      "execution_count": null,
      "outputs": []
    },
    {
      "cell_type": "code",
      "source": [
        "print(f\"A área do quadrado é {areaqua}\")"
      ],
      "metadata": {
        "colab": {
          "base_uri": "https://localhost:8080/"
        },
        "id": "AnQw4sFA12rO",
        "outputId": "107e4ae0-3733-4f64-c722-2b5a5d2128e5"
      },
      "execution_count": null,
      "outputs": [
        {
          "output_type": "stream",
          "name": "stdout",
          "text": [
            "A área do quadrado é 36.0\n"
          ]
        }
      ]
    },
    {
      "cell_type": "markdown",
      "source": [
        "#Exercicíos"
      ],
      "metadata": {
        "id": "_KjQ2z_Lot8k"
      }
    },
    {
      "cell_type": "markdown",
      "source": [
        "##Exercício 1 - Área do Retângulo\n",
        "\n",
        "Crie um programa que calcule a área de um retângulo usando uma constante para representar a base.\n",
        "\n",
        " Fórmula: A = base × altura"
      ],
      "metadata": {
        "id": "cC46gHRZo2bF"
      }
    },
    {
      "cell_type": "code",
      "source": [
        "#Entrada\n",
        "base = float(input(\"Qual é a base do retângulo?\"))"
      ],
      "metadata": {
        "colab": {
          "base_uri": "https://localhost:8080/"
        },
        "id": "KB9G6u-8pazw",
        "outputId": "95ca4329-5732-4ab6-d7d0-9ed33bc3608c"
      },
      "execution_count": 1,
      "outputs": [
        {
          "name": "stdout",
          "output_type": "stream",
          "text": [
            "Qual é a base do retângulo?10\n"
          ]
        }
      ]
    },
    {
      "cell_type": "code",
      "source": [
        "altura = float(input(\"Qual é a altura do retângulo\"))"
      ],
      "metadata": {
        "colab": {
          "base_uri": "https://localhost:8080/"
        },
        "id": "1F0oIt9Dp1Pm",
        "outputId": "425f0d02-243d-4080-f208-bf081387670f"
      },
      "execution_count": 3,
      "outputs": [
        {
          "name": "stdout",
          "output_type": "stream",
          "text": [
            "Qual é a altura do retângulo2.5\n"
          ]
        }
      ]
    },
    {
      "cell_type": "code",
      "source": [
        "#Processamento\n",
        "arearetan = base * altura"
      ],
      "metadata": {
        "id": "Na2lorVMqJwy"
      },
      "execution_count": 5,
      "outputs": []
    },
    {
      "cell_type": "code",
      "source": [
        "#Saida\n",
        "print (f\"A área do retângulo é {arearetan}\")"
      ],
      "metadata": {
        "colab": {
          "base_uri": "https://localhost:8080/"
        },
        "id": "5zcRmSs0qdXW",
        "outputId": "ff733577-5d53-41b0-d203-aa93ebff00af"
      },
      "execution_count": 7,
      "outputs": [
        {
          "output_type": "stream",
          "name": "stdout",
          "text": [
            "A área do retângulo é 25.0\n"
          ]
        }
      ]
    },
    {
      "cell_type": "markdown",
      "source": [
        "##Exercício 2 – Perímetro do Círculo\n",
        "\n",
        "Crie um programa que calcule o perímetro de um círculo usando a constante π.\n",
        "\n",
        " Fórmula: P = 2 × π × r"
      ],
      "metadata": {
        "id": "v3tWEJRTq-cx"
      }
    },
    {
      "cell_type": "code",
      "source": [
        "#Entrada\n",
        "PI = 3.14159\n",
        "raio = float(input(\"Qual é o perímetro do círculo?\"))"
      ],
      "metadata": {
        "colab": {
          "base_uri": "https://localhost:8080/"
        },
        "id": "6wDyopATrFxA",
        "outputId": "1e43c2bd-7ea8-4a10-d266-3390cf67ae8b"
      },
      "execution_count": 8,
      "outputs": [
        {
          "name": "stdout",
          "output_type": "stream",
          "text": [
            "Qual é o perímetro do círculo?6\n"
          ]
        }
      ]
    },
    {
      "cell_type": "code",
      "source": [
        "#processamento\n",
        "perimetrocir = 2 * PI * raio"
      ],
      "metadata": {
        "id": "0KjSRS72rwqt"
      },
      "execution_count": 9,
      "outputs": []
    },
    {
      "cell_type": "code",
      "source": [
        "#Saida\n",
        "print(f\"O perímetro do círculo é {perimetrocir:.2f}\")"
      ],
      "metadata": {
        "colab": {
          "base_uri": "https://localhost:8080/"
        },
        "id": "3Vn6AQKksLgK",
        "outputId": "a4aa6bad-57d6-40b0-c365-54db10812e4c"
      },
      "execution_count": 11,
      "outputs": [
        {
          "output_type": "stream",
          "name": "stdout",
          "text": [
            "O perímetro do círculo é 37.70\n"
          ]
        }
      ]
    },
    {
      "cell_type": "markdown",
      "source": [
        "##Exercício 3 – Conversão de Temperatura\n",
        "\n",
        "Crie um programa que converta uma temperatura de Fahrenheit para Celsius.\n",
        "\n",
        " Fórmula: C = (F - 32) × 5/9"
      ],
      "metadata": {
        "id": "En29LUxKuCQ_"
      }
    },
    {
      "cell_type": "code",
      "source": [
        "#Entrada\n",
        "Fahrenheit = float(input(\"Qual temperatura está agora em fahrenheit?\"))"
      ],
      "metadata": {
        "colab": {
          "base_uri": "https://localhost:8080/"
        },
        "id": "PUCXRoIbuFDH",
        "outputId": "288c81ad-36c5-4af0-c80c-9736030e9226"
      },
      "execution_count": 12,
      "outputs": [
        {
          "name": "stdout",
          "output_type": "stream",
          "text": [
            "Qual temperatura está agora em fahrenheit?87\n"
          ]
        }
      ]
    },
    {
      "cell_type": "code",
      "source": [
        "#Processamento\n",
        "Celsius = (Fahrenheit-32)*5/9"
      ],
      "metadata": {
        "id": "Emi9drz1u5Wy"
      },
      "execution_count": 13,
      "outputs": []
    },
    {
      "cell_type": "code",
      "source": [
        "#Saida\n",
        "print(f\"Está fazendo {Celsius:.2f} graus em temperatura de celsius.\")"
      ],
      "metadata": {
        "colab": {
          "base_uri": "https://localhost:8080/"
        },
        "id": "TD_bYNWavI48",
        "outputId": "436b4f70-500a-472b-8f23-7142d2c38345"
      },
      "execution_count": 14,
      "outputs": [
        {
          "output_type": "stream",
          "name": "stdout",
          "text": [
            "Está fazendo 30.56 graus em temperatura de celsius.\n"
          ]
        }
      ]
    },
    {
      "cell_type": "markdown",
      "source": [
        "##Exercício 4 – Cálculo do IMC\n",
        "\n",
        "Crie um programa que calcule o Índice de Massa Corporal (IMC) de uma pessoa.\n",
        "\n",
        " Fórmula: IMC = peso / altura²"
      ],
      "metadata": {
        "id": "abKWiT1kwBH-"
      }
    },
    {
      "cell_type": "code",
      "source": [
        "#Entrada\n",
        "peso = float(input(\"Qual é o seu peso?\"))"
      ],
      "metadata": {
        "colab": {
          "base_uri": "https://localhost:8080/"
        },
        "id": "jOcpvP8lwC33",
        "outputId": "acb1bc34-5e3b-4c56-aa93-d61510cf9c3a"
      },
      "execution_count": 28,
      "outputs": [
        {
          "name": "stdout",
          "output_type": "stream",
          "text": [
            "Qual é o seu peso?59\n"
          ]
        }
      ]
    },
    {
      "cell_type": "code",
      "source": [
        "altura = float(input(\"Qual é a sua altura?\"))"
      ],
      "metadata": {
        "colab": {
          "base_uri": "https://localhost:8080/"
        },
        "id": "7clxsKT5wbhZ",
        "outputId": "57255a3f-543f-45ea-e791-2f4a1916fb86"
      },
      "execution_count": 29,
      "outputs": [
        {
          "name": "stdout",
          "output_type": "stream",
          "text": [
            "Qual é a sua altura?1.64\n"
          ]
        }
      ]
    },
    {
      "cell_type": "code",
      "source": [
        "#Processamento\n",
        "IMC = peso / (altura * altura)"
      ],
      "metadata": {
        "id": "Kq8T-_oSwwSm"
      },
      "execution_count": 30,
      "outputs": []
    },
    {
      "cell_type": "code",
      "source": [
        "#Saida\n",
        "print(f\"O seu IMC é {IMC:.2f}.\")"
      ],
      "metadata": {
        "colab": {
          "base_uri": "https://localhost:8080/"
        },
        "id": "kep2Oyw1xhHL",
        "outputId": "f972846d-b1bc-4e69-d548-d739e51e28f1"
      },
      "execution_count": 32,
      "outputs": [
        {
          "output_type": "stream",
          "name": "stdout",
          "text": [
            "O seu IMC é 21.94.\n"
          ]
        }
      ]
    }
  ]
}