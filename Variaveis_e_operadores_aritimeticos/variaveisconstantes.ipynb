{
  "nbformat": 4,
  "nbformat_minor": 0,
  "metadata": {
    "colab": {
      "provenance": [],
      "authorship_tag": "ABX9TyOru2CvaxHV/in3shvLC/Xo",
      "include_colab_link": true
    },
    "kernelspec": {
      "name": "python3",
      "display_name": "Python 3"
    },
    "language_info": {
      "name": "python"
    }
  },
  "cells": [
    {
      "cell_type": "markdown",
      "metadata": {
        "id": "view-in-github",
        "colab_type": "text"
      },
      "source": [
        "<a href=\"https://colab.research.google.com/github/mecouto/PA2025/blob/main/Variaveis_e_operadores_aritimeticos/variaveisconstantes.ipynb\" target=\"_parent\"><img src=\"https://colab.research.google.com/assets/colab-badge.svg\" alt=\"Open In Colab\"/></a>"
      ]
    },
    {
      "cell_type": "markdown",
      "source": [
        "Variaveis constantes"
      ],
      "metadata": {
        "id": "v3UHuuYkgWO-"
      }
    },
    {
      "cell_type": "code",
      "execution_count": null,
      "metadata": {
        "id": "qQGpeZAWgO7R"
      },
      "outputs": [],
      "source": [
        "idade = 15\n",
        "altura = 1,64\n",
        "nome = \"Maria Eduarda\"\n",
        "vai = True"
      ]
    },
    {
      "cell_type": "code",
      "source": [
        "nomes = [\"Maria Eduarda\", \"Alana\"]\n",
        "nomes2 = (\"Manuella\", \"Helloisa\")\n",
        "tudo = {\"nome\": \"Maria Eduarda\", \"idade\": 15, \"altura\":1.64}"
      ],
      "metadata": {
        "id": "5qc50sbziarr"
      },
      "execution_count": null,
      "outputs": []
    },
    {
      "cell_type": "code",
      "source": [
        "print (nome)\n",
        "print (nomes)\n",
        "print (nomes2)\n",
        "print (tudo)"
      ],
      "metadata": {
        "colab": {
          "base_uri": "https://localhost:8080/"
        },
        "id": "o7C9S1NNjNRu",
        "outputId": "19f9e134-d183-4429-c2af-7b4735cc19b6"
      },
      "execution_count": null,
      "outputs": [
        {
          "output_type": "stream",
          "name": "stdout",
          "text": [
            "Maria Eduarda\n",
            "['Maria Eduarda', 'Alana']\n",
            "('Manuella', 'Helloisa')\n",
            "{'nome': 'Maria Eduarda', 'idade': 15, 'altura': 1.64}\n"
          ]
        }
      ]
    },
    {
      "cell_type": "code",
      "source": [
        "print (type(idade))\n",
        "print (type(altura))\n",
        "print (type(vai))\n",
        "print (type(nome))\n",
        "print (type(nomes))\n",
        "print (type(nomes2))"
      ],
      "metadata": {
        "colab": {
          "base_uri": "https://localhost:8080/"
        },
        "id": "QB7uWniQkLfB",
        "outputId": "4daf2ac2-5971-4f3f-cf0c-19503aefe918"
      },
      "execution_count": null,
      "outputs": [
        {
          "output_type": "stream",
          "name": "stdout",
          "text": [
            "<class 'int'>\n",
            "<class 'tuple'>\n",
            "<class 'bool'>\n",
            "<class 'str'>\n",
            "<class 'list'>\n",
            "<class 'tuple'>\n"
          ]
        }
      ]
    },
    {
      "cell_type": "code",
      "source": [
        "print (\"o nome dela é:\", nome, \",sua idade é:\", idade, \"anos\", \",ela tem\", altura, \"metros\")"
      ],
      "metadata": {
        "colab": {
          "base_uri": "https://localhost:8080/"
        },
        "id": "s9yGJ-ecpS5J",
        "outputId": "6f467984-0bc7-4703-9694-9ceeb4268453"
      },
      "execution_count": null,
      "outputs": [
        {
          "output_type": "stream",
          "name": "stdout",
          "text": [
            "o nome dela é: Maria Eduarda ,sua idade é: 15 anos ,ela tem (1, 64) metros\n"
          ]
        }
      ]
    },
    {
      "cell_type": "code",
      "source": [
        "print(f\"nome: {nome}, altura: {altura}\")"
      ],
      "metadata": {
        "colab": {
          "base_uri": "https://localhost:8080/"
        },
        "id": "cC6oB6v0sOXh",
        "outputId": "717d2438-f03b-4859-de7e-dbd45134b997"
      },
      "execution_count": null,
      "outputs": [
        {
          "output_type": "stream",
          "name": "stdout",
          "text": [
            "nome: Maria Eduarda, altura: (1, 64)\n"
          ]
        }
      ]
    },
    {
      "cell_type": "markdown",
      "source": [
        "Área do círculo"
      ],
      "metadata": {
        "id": "9pCzXkQaveOv"
      }
    },
    {
      "cell_type": "code",
      "source": [
        "PI = 3.14159\n",
        "raio = float(input(\"Digite o valor do raio do círculo\"))"
      ],
      "metadata": {
        "colab": {
          "base_uri": "https://localhost:8080/"
        },
        "id": "qTJbSyCavlVm",
        "outputId": "6c9efebd-26c9-4662-967d-006dfb1c96e6"
      },
      "execution_count": null,
      "outputs": [
        {
          "name": "stdout",
          "output_type": "stream",
          "text": [
            "Digite o valor do raio do círculo05\n"
          ]
        }
      ]
    },
    {
      "cell_type": "code",
      "source": [
        "areacir = PI * (raio**2)"
      ],
      "metadata": {
        "id": "9C6tYLC0wYac"
      },
      "execution_count": null,
      "outputs": []
    },
    {
      "cell_type": "code",
      "source": [
        "print(f\"A área do círculo é {areacir}\")"
      ],
      "metadata": {
        "colab": {
          "base_uri": "https://localhost:8080/"
        },
        "id": "pnLDp0IIxdKR",
        "outputId": "962e1183-585c-457b-c4b0-82375679afac"
      },
      "execution_count": null,
      "outputs": [
        {
          "output_type": "stream",
          "name": "stdout",
          "text": [
            "A área do círculo é 78.53975\n"
          ]
        }
      ]
    },
    {
      "cell_type": "markdown",
      "source": [
        "Área do quadrado"
      ],
      "metadata": {
        "id": "xzucegl_08Pc"
      }
    },
    {
      "cell_type": "code",
      "source": [
        "lado = float(input(\"Digite o valor do lado do quadrado\"))"
      ],
      "metadata": {
        "colab": {
          "base_uri": "https://localhost:8080/"
        },
        "id": "4pTgEJrT1HF0",
        "outputId": "d564a076-f8c8-425e-ec23-f801baeafd51"
      },
      "execution_count": null,
      "outputs": [
        {
          "name": "stdout",
          "output_type": "stream",
          "text": [
            "Digite o valor do lao do quadrado6\n"
          ]
        }
      ]
    },
    {
      "cell_type": "code",
      "source": [
        "areaqua = lado **2"
      ],
      "metadata": {
        "id": "JS98VR9H1iUZ"
      },
      "execution_count": null,
      "outputs": []
    },
    {
      "cell_type": "code",
      "source": [
        "print(f\"A área do quadrado é {areaqua}\")"
      ],
      "metadata": {
        "colab": {
          "base_uri": "https://localhost:8080/"
        },
        "id": "AnQw4sFA12rO",
        "outputId": "107e4ae0-3733-4f64-c722-2b5a5d2128e5"
      },
      "execution_count": null,
      "outputs": [
        {
          "output_type": "stream",
          "name": "stdout",
          "text": [
            "A área do quadrado é 36.0\n"
          ]
        }
      ]
    }
  ]
}