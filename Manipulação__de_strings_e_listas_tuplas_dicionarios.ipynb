{
  "nbformat": 4,
  "nbformat_minor": 0,
  "metadata": {
    "colab": {
      "provenance": [],
      "authorship_tag": "ABX9TyOp6esPVzjPmpcbrYhDXwmE",
      "include_colab_link": true
    },
    "kernelspec": {
      "name": "python3",
      "display_name": "Python 3"
    },
    "language_info": {
      "name": "python"
    }
  },
  "cells": [
    {
      "cell_type": "markdown",
      "metadata": {
        "id": "view-in-github",
        "colab_type": "text"
      },
      "source": [
        "<a href=\"https://colab.research.google.com/github/mecouto/PA2025/blob/main/Manipula%C3%A7%C3%A3o__de_strings_e_listas_tuplas_dicionarios.ipynb\" target=\"_parent\"><img src=\"https://colab.research.google.com/assets/colab-badge.svg\" alt=\"Open In Colab\"/></a>"
      ]
    },
    {
      "cell_type": "markdown",
      "source": [
        "#Exercícios de manipulação de strings"
      ],
      "metadata": {
        "id": "Fw8mFNzb3vGs"
      }
    },
    {
      "cell_type": "code",
      "source": [
        "# 1 - Use o método len para imprimir o comprimento da string.\n",
        "\n",
        "x = \"Hello World\"\n",
        "print(len(x))"
      ],
      "metadata": {
        "colab": {
          "base_uri": "https://localhost:8080/"
        },
        "id": "xQrpcHlI6Wwt",
        "outputId": "d15f922e-067d-4c2d-b558-3141daed3cd0"
      },
      "execution_count": 7,
      "outputs": [
        {
          "output_type": "stream",
          "name": "stdout",
          "text": [
            "11\n"
          ]
        }
      ]
    },
    {
      "cell_type": "code",
      "source": [
        "# 2 - Obtenha o primeiro caractere da string txt.\n",
        "\n",
        "txt = \"Hello World\"\n",
        "x = txt[0]\n",
        "print(x)"
      ],
      "metadata": {
        "colab": {
          "base_uri": "https://localhost:8080/"
        },
        "id": "6svKUma16eU6",
        "outputId": "8612f62c-505d-4849-b4fe-64167e15a367"
      },
      "execution_count": 8,
      "outputs": [
        {
          "output_type": "stream",
          "name": "stdout",
          "text": [
            "H\n"
          ]
        }
      ]
    },
    {
      "cell_type": "code",
      "source": [
        "# 3 - Obtenha os caracteres do índice 2 ao índice 4 ( llo).\n",
        "\n",
        "txt = \"Hello World\"\n",
        "x = txt[2:5:]\n",
        "print(x)"
      ],
      "metadata": {
        "colab": {
          "base_uri": "https://localhost:8080/"
        },
        "id": "OOpU2Fy56gro",
        "outputId": "2beced74-ab34-4935-ca4c-491644ad6304"
      },
      "execution_count": 9,
      "outputs": [
        {
          "output_type": "stream",
          "name": "stdout",
          "text": [
            "llo\n"
          ]
        }
      ]
    },
    {
      "cell_type": "code",
      "source": [
        "# 4 - Converta o valor de txt para maiúsculas.\n",
        "\n",
        "txt = \"Hello World\"\n",
        "txt = txt.upper()\n",
        "print(txt)"
      ],
      "metadata": {
        "colab": {
          "base_uri": "https://localhost:8080/"
        },
        "id": "TNX-5pIf6kNH",
        "outputId": "ffc88287-09e6-4ec3-e328-34f009e0963d"
      },
      "execution_count": 10,
      "outputs": [
        {
          "output_type": "stream",
          "name": "stdout",
          "text": [
            "HELLO WORLD\n"
          ]
        }
      ]
    },
    {
      "cell_type": "code",
      "source": [
        "# 5 - Conte quantas vezes aparece a palavra \"de\" na string abaixo\n",
        "\n",
        "txt = \"Eu gosto de viajar, tomar vinho, de estudar estudar programação, de estudar Python\"\n",
        "txt= txt.count(\"de\")\n",
        "print(txt)"
      ],
      "metadata": {
        "colab": {
          "base_uri": "https://localhost:8080/"
        },
        "id": "nu2Gy2Hg6nNZ",
        "outputId": "6f29c73c-d672-411c-9caf-0d17eacf5ce6"
      },
      "execution_count": 11,
      "outputs": [
        {
          "output_type": "stream",
          "name": "stdout",
          "text": [
            "3\n"
          ]
        }
      ]
    },
    {
      "cell_type": "code",
      "source": [
        "# 6 - Separe a frase abaixo toda vez que encontrar um vírgula\n",
        "\n",
        "txt = \"Eu gosto de viajar, tomar vinho, de estudar estudar programação, de estudar Python\"\n",
        "txt= txt.split(\",\")\n",
        "print(txt)"
      ],
      "metadata": {
        "colab": {
          "base_uri": "https://localhost:8080/"
        },
        "id": "ZV-v52Mt6sgK",
        "outputId": "b5583fce-7060-49a7-8883-58d9c5663356"
      },
      "execution_count": 12,
      "outputs": [
        {
          "output_type": "stream",
          "name": "stdout",
          "text": [
            "['Eu gosto de viajar', ' tomar vinho', ' de estudar estudar programação', ' de estudar Python']\n"
          ]
        }
      ]
    },
    {
      "cell_type": "code",
      "source": [
        "#7 - Peça ao usuário uma frase e substitua todas as ocorrências de espaço por “#”.\n",
        "\n",
        "frase= input(\"Digite uma frase: \")\n",
        "frase= frase.replace(\" \", \"#\")\n",
        "print(frase)"
      ],
      "metadata": {
        "colab": {
          "base_uri": "https://localhost:8080/"
        },
        "id": "_VyA9n8c61S6",
        "outputId": "ffdce556-ad6c-4d29-cab7-6f0048e9143c"
      },
      "execution_count": 13,
      "outputs": [
        {
          "output_type": "stream",
          "name": "stdout",
          "text": [
            "Digite uma frase: Eu amo meus gatos\n",
            "Eu#amo#meus#gatos\n"
          ]
        }
      ]
    },
    {
      "cell_type": "code",
      "source": [
        "# 8 - Faça um programa que retorne True se duas strings lidas do teclado são palíndromas mútuas, ou seja, se uma é igual à outra quando lida de traz para frente ou False, se não forem.\n",
        "# Por exemplo: amor e roma\n",
        "palavra1=input(\"Digite sua Palavra: \").lower()\n",
        "palavra2=input(\"Digite sua Palavra: \").lower()\n",
        "if palavra1 == palavra1[::-1]:\n",
        "  print(\"Sua primeira palavra é palíndroma dela mesma\")\n",
        "elif palavra2 == palavra2[::-1]:\n",
        "  print(\"Sua segunda palavra é palíndroma dela mesma\")\n",
        "else:\n",
        "  print(\"São Palíndromas Mútuas\")"
      ],
      "metadata": {
        "colab": {
          "base_uri": "https://localhost:8080/"
        },
        "id": "OZzqaI017Bt9",
        "outputId": "893e6990-0249-4a4e-c4cc-3cbde92877e3"
      },
      "execution_count": 14,
      "outputs": [
        {
          "output_type": "stream",
          "name": "stdout",
          "text": [
            "Digite sua Palavra: Amor\n",
            "Digite sua Palavra: Roma\n",
            "São Palíndromas Mútuas\n"
          ]
        }
      ]
    },
    {
      "cell_type": "code",
      "source": [
        "# 9- Faça um programa que leia o nome do usuário e mostre o nome de traz para frente, utilizando somente letras maiúsculas.\n",
        "usuario= input(\"Digite o Nome de Usuário: \").upper()\n",
        "usuario= usuario[::-1]\n",
        "print(usuario)"
      ],
      "metadata": {
        "colab": {
          "base_uri": "https://localhost:8080/"
        },
        "id": "mHuV8Ra47HkJ",
        "outputId": "40bebd05-61be-4103-d283-63800188bd88"
      },
      "execution_count": 15,
      "outputs": [
        {
          "output_type": "stream",
          "name": "stdout",
          "text": [
            "Digite o Nome de Usuário: maria\n",
            "AIRAM\n"
          ]
        }
      ]
    },
    {
      "cell_type": "markdown",
      "source": [
        "#Exercícios de Listas, tuplas e dicionários"
      ],
      "metadata": {
        "id": "qo0DUmPC6PjU"
      }
    },
    {
      "cell_type": "code",
      "source": [
        "#Exercício 1: Manipulação de Listas\n",
        "\n",
        "cidades = [\"Mauá\", \"Ribeirão Pires\", \"Paranapiacaba\", \"Holambra\", \"Curitiba\"]\n",
        "cidades.append(\"Gramado\")\n",
        "cidades.remove(\"Ribeirão Pires\")\n",
        "print(cidades)"
      ],
      "metadata": {
        "colab": {
          "base_uri": "https://localhost:8080/"
        },
        "id": "yHh4S2_s3tMu",
        "outputId": "fa8e9c12-d914-4f50-91c2-928dcc24d584"
      },
      "execution_count": 2,
      "outputs": [
        {
          "output_type": "stream",
          "name": "stdout",
          "text": [
            "['Mauá', 'Paranapiacaba', 'Holambra', 'Curitiba', 'Gramado']\n"
          ]
        }
      ]
    },
    {
      "cell_type": "code",
      "source": [
        "#Exercício 2: Operações com Tuplas\n",
        "\n",
        "cores = (\"Vermelho\", \"Laranja\", \"Amarelo\", \"Verde\")\n",
        "novacores = cores + (\"Azul\", \"Roxo\")\n",
        "print(novacores)"
      ],
      "metadata": {
        "colab": {
          "base_uri": "https://localhost:8080/"
        },
        "id": "wla4WcEi4f8p",
        "outputId": "0dfab8a5-4659-489b-bc2e-058b2ca9a7be"
      },
      "execution_count": 3,
      "outputs": [
        {
          "output_type": "stream",
          "name": "stdout",
          "text": [
            "('Vermelho', 'Laranja', 'Amarelo', 'Verde', 'Azul', 'Roxo')\n"
          ]
        }
      ]
    },
    {
      "cell_type": "code",
      "source": [
        "#Exercício 3: Dicionários Simples\n",
        "\n",
        "aluno = {\n",
        "    'nome':'Yasmim',\n",
        "    'idade': 13,\n",
        "    'curso': 'T.I'\n",
        "}\n",
        "aluno['idade'] = 15\n",
        "aluno['nota'] = 9.0\n",
        "print(aluno)"
      ],
      "metadata": {
        "colab": {
          "base_uri": "https://localhost:8080/"
        },
        "id": "HOuBS5Ta4oLL",
        "outputId": "9c5ee5c2-be85-4332-cfc6-47f15c7134e2"
      },
      "execution_count": 4,
      "outputs": [
        {
          "output_type": "stream",
          "name": "stdout",
          "text": [
            "{'nome': 'Yasmim', 'idade': 15, 'curso': 'T.I', 'nota': 9.0}\n"
          ]
        }
      ]
    },
    {
      "cell_type": "code",
      "source": [
        "#Exercício 4: Listas e Dicionários\n",
        "produto = [\n",
        "    {'nome': 'Hambúrguer', 'preco': 29},\n",
        "    {'nome': 'Refrigerante', 'preco': 7}\n",
        "]\n",
        "novo = {'nome': 'Batata frita', 'preco': 9}\n",
        "produto.append(novo)\n",
        "produto[0]['preco'] /=2\n",
        "print(produto)"
      ],
      "metadata": {
        "colab": {
          "base_uri": "https://localhost:8080/"
        },
        "id": "mie1gykM4uL6",
        "outputId": "a689625f-b298-42dd-ff0a-a629edf54146"
      },
      "execution_count": 5,
      "outputs": [
        {
          "output_type": "stream",
          "name": "stdout",
          "text": [
            "[{'nome': 'Hambúrguer', 'preco': 14.5}, {'nome': 'Refrigerante', 'preco': 7}, {'nome': 'Batata frita', 'preco': 9}]\n"
          ]
        }
      ]
    },
    {
      "cell_type": "code",
      "source": [
        "#Exercício 5: Analisando uma Lista de Tuplas\n",
        "\n",
        "nome_idade =[(\"Maria\", 15),(\"Alana\", 24),(\"júlia\", 49), (\"Helloisa\", 75),]\n",
        "\n",
        "idadevelho = 0\n",
        "nomevelho = \"\"\n",
        "\n",
        "if nome_idade[0][1] > idadevelho:\n",
        "  idadevelho = nome_idade[0][1]\n",
        "  nomevelho = nome_idade[0][0]\n",
        "  if nome_idade[1][1] > idadevelho:\n",
        "    idadevelho = nome_idade[1][1]\n",
        "    nomevelho = nome_idade[1][0]\n",
        "    if nome_idade[2][1] > idadevelho:\n",
        "      idadevelho = nome_idade[2][1]\n",
        "      nomevelho = nome_idade[2][0]\n",
        "      if nome_idade[3][1] > idadevelho:\n",
        "        idadevelho = nome_idade[3][1]\n",
        "        nomevelho = nome_idade[3][0]\n",
        "\n",
        "media = nome_idade[0][1] + nome_idade[1][1] + nome_idade[2][1] + nome_idade[3][1]\n",
        "media = media/len(nome_idade)\n",
        "\n",
        "print(\"a pessoa mais velha é\", nomevelho, \"com\", idadevelho, \"anos.\")\n",
        "print(\"A idade média das pessoas é\", media)"
      ],
      "metadata": {
        "colab": {
          "base_uri": "https://localhost:8080/"
        },
        "id": "2b6XKJ4m41re",
        "outputId": "8e2b40cc-499d-4696-df7f-4c8f12b9f730"
      },
      "execution_count": 6,
      "outputs": [
        {
          "output_type": "stream",
          "name": "stdout",
          "text": [
            "a pessoa mais velha é Helloisa com 75 anos.\n",
            "A idade média das pessoas é 40.75\n"
          ]
        }
      ]
    }
  ]
}