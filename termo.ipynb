{
  "nbformat": 4,
  "nbformat_minor": 0,
  "metadata": {
    "colab": {
      "provenance": [],
      "include_colab_link": true
    },
    "kernelspec": {
      "name": "python3",
      "display_name": "Python 3"
    },
    "language_info": {
      "name": "python"
    }
  },
  "cells": [
    {
      "cell_type": "markdown",
      "metadata": {
        "id": "view-in-github",
        "colab_type": "text"
      },
      "source": [
        "<a href=\"https://colab.research.google.com/github/mecouto/PA2025/blob/main/termo.ipynb\" target=\"_parent\"><img src=\"https://colab.research.google.com/assets/colab-badge.svg\" alt=\"Open In Colab\"/></a>"
      ]
    },
    {
      "cell_type": "markdown",
      "source": [
        "# **Termo**"
      ],
      "metadata": {
        "id": "sBgPCA_dGLH-"
      }
    },
    {
      "cell_type": "code",
      "source": [
        "import random\n",
        "tentativas = 6\n",
        "palavras = ['vigor', 'razao', 'aureo', 'dengo', 'futil', 'mutuo', 'areia', 'mares', 'navio', 'casal', 'estar', 'causa', 'tendo', 'apice', 'breno', 'maria', 'dever', 'animo', 'culto', 'seita', 'digno', 'digna', 'vulgo', 'fugaz', 'prole', 'saude', 'criar', 'pauta', 'ordem', 'banal', 'dogma', 'falso', 'falsa', 'juizo', 'banho']\n",
        "palavra = random.choice(palavras)\n",
        "letras = []\n",
        "\n",
        "for letra in palavra:\n",
        "    letras.append(letra)\n",
        "\n",
        "qtd_letras = len(letras)\n",
        "\n",
        "(f'Tente adivinhar uma palavra com {qtd_letras} letras!')\n",
        "\n",
        "while tentativas > 0 :\n",
        "    jogador = str(input(f'Você tem {tentativas} tentativas. Digite uma palavra com {qtd_letras} letras: ')).lower()\n",
        "\n",
        "    qtd_chute = len(jogador)\n",
        "\n",
        "    resultado = []\n",
        "\n",
        "\n",
        "    for i in range(qtd_letras):\n",
        "        if jogador[i] == letras[i]:\n",
        "\n",
        "            resultado.append(jogador[i].upper())\n",
        "\n",
        "        elif jogador[i] in letras:\n",
        "\n",
        "            resultado.append(jogador[i])\n",
        "        else:\n",
        "\n",
        "            resultado.append('_')\n",
        "    tentativas -=1\n",
        "\n",
        "    print('Resultado: ', ' '.join(resultado))\n",
        "\n",
        "    if jogador == palavra:\n",
        "        print('Parabéns! Você acertou a palavra de hoje!')\n",
        "\n",
        "        break\n",
        "\n",
        "    if tentativas == 0:\n",
        "        print(f'Você errou! A palavra de hojr era: {palavra}')"
      ],
      "metadata": {
        "colab": {
          "base_uri": "https://localhost:8080/"
        },
        "id": "8PYdxGtsWXUf",
        "outputId": "e84c5d01-0a23-447b-d604-456b64f31f07"
      },
      "execution_count": 1,
      "outputs": [
        {
          "output_type": "stream",
          "name": "stdout",
          "text": [
            "Você tem 6 tentativas. Digite uma palavra com 5 letras: aureo\n",
            "Resultado:  a _ _ _ _\n",
            "Você tem 5 tentativas. Digite uma palavra com 5 letras: causa\n",
            "Resultado:  _ A _ _ a\n",
            "Você tem 4 tentativas. Digite uma palavra com 5 letras: casal\n",
            "Resultado:  _ A _ A L\n",
            "Você tem 3 tentativas. Digite uma palavra com 5 letras: banal\n",
            "Resultado:  B A N A L\n",
            "Parabéns! Você acertou a palavra de hoje!\n"
          ]
        }
      ]
    }
  ]
}