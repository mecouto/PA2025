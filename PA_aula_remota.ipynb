{
  "nbformat": 4,
  "nbformat_minor": 0,
  "metadata": {
    "colab": {
      "provenance": [],
      "authorship_tag": "ABX9TyOnFq9fSLailGGGCfWOOw+0",
      "include_colab_link": true
    },
    "kernelspec": {
      "name": "python3",
      "display_name": "Python 3"
    },
    "language_info": {
      "name": "python"
    }
  },
  "cells": [
    {
      "cell_type": "markdown",
      "metadata": {
        "id": "view-in-github",
        "colab_type": "text"
      },
      "source": [
        "<a href=\"https://colab.research.google.com/github/mecouto/PA2025/blob/main/PA_aula_remota.ipynb\" target=\"_parent\"><img src=\"https://colab.research.google.com/assets/colab-badge.svg\" alt=\"Open In Colab\"/></a>"
      ]
    },
    {
      "cell_type": "markdown",
      "source": [
        "Cáculo de média"
      ],
      "metadata": {
        "id": "UxQNKNXgxxtL"
      }
    },
    {
      "cell_type": "code",
      "execution_count": null,
      "metadata": {
        "colab": {
          "base_uri": "https://localhost:8080/"
        },
        "id": "WiL-5IE6xqGi",
        "outputId": "5d341b4d-1e8d-4e57-a879-af3c1dcff728"
      },
      "outputs": [
        {
          "name": "stdout",
          "output_type": "stream",
          "text": [
            "Digite o valor da primeira nota 6\n",
            "Digite o alor da segunda nota 8\n"
          ]
        }
      ],
      "source": [
        "#Entrada\n",
        "num1 = float(input(\"Digite o valor da primeira nota \"))\n",
        "num2 = float(input(\"Digite o alor da segunda nota \"))"
      ]
    },
    {
      "cell_type": "code",
      "source": [
        "#Processamento\n",
        "media = (num1+num2)/2"
      ],
      "metadata": {
        "id": "ool6L7P6zWJq"
      },
      "execution_count": null,
      "outputs": []
    },
    {
      "cell_type": "code",
      "source": [
        "#Saida\n",
        "print(f\"A média é {media}.\")"
      ],
      "metadata": {
        "colab": {
          "base_uri": "https://localhost:8080/"
        },
        "id": "rMMEa5tozspJ",
        "outputId": "17a4deac-7c95-4434-806c-0f7cb8bf89e4"
      },
      "execution_count": null,
      "outputs": [
        {
          "output_type": "stream",
          "name": "stdout",
          "text": [
            "A média é 7.0.\n"
          ]
        }
      ]
    },
    {
      "cell_type": "markdown",
      "source": [
        "Coversão de moeda"
      ],
      "metadata": {
        "id": "2viPFASS4FIH"
      }
    },
    {
      "cell_type": "code",
      "source": [
        "#Entrada\n",
        "cotacaodolar = float(input(\"Digite cotação de dólar:\"))\n",
        "valorreais = float(input(\"Digite aqui quantos reais você tem:\"))"
      ],
      "metadata": {
        "colab": {
          "base_uri": "https://localhost:8080/"
        },
        "id": "qUvv77vY4TxP",
        "outputId": "36ed351f-5b5c-4c4f-bdcd-ca3012fbf601"
      },
      "execution_count": null,
      "outputs": [
        {
          "name": "stdout",
          "output_type": "stream",
          "text": [
            "Digite cotação de dólar:5.73\n",
            "Digite aqui quantos reais você tem:100\n"
          ]
        }
      ]
    },
    {
      "cell_type": "code",
      "source": [
        "#Processamento\n",
        "valordolar = valorreais/cotacaodolar"
      ],
      "metadata": {
        "id": "dqVxzgc75fxO"
      },
      "execution_count": null,
      "outputs": []
    },
    {
      "cell_type": "code",
      "source": [
        "#Saida\n",
        "print(f\"Você tem {valordolar:.2f} dólares.\")"
      ],
      "metadata": {
        "colab": {
          "base_uri": "https://localhost:8080/"
        },
        "id": "PJncJhjm6C1_",
        "outputId": "6da0b677-338a-4ca4-cdac-058428785463"
      },
      "execution_count": null,
      "outputs": [
        {
          "output_type": "stream",
          "name": "stdout",
          "text": [
            "Você tem 17.45 dólares.\n"
          ]
        }
      ]
    },
    {
      "cell_type": "markdown",
      "source": [
        "Cáculo de comissão"
      ],
      "metadata": {
        "id": "fbRI7kLt6lwm"
      }
    },
    {
      "cell_type": "code",
      "source": [
        "#Entrada\n",
        "precouni = float(input(\"Digite o preço da unidade de roupa:\"))\n",
        "qtderoupa = float(input(\"Quantos unidades de roupa foram vendidas?\"))"
      ],
      "metadata": {
        "colab": {
          "base_uri": "https://localhost:8080/"
        },
        "id": "OkrGA4p-65Nt",
        "outputId": "04b55b48-e7dd-4995-d7ef-6031d5528cf8"
      },
      "execution_count": null,
      "outputs": [
        {
          "name": "stdout",
          "output_type": "stream",
          "text": [
            "Digite o preço da unidade de roupa:29.99\n",
            "Quantos unidades de roupa foram vendidas?7\n"
          ]
        }
      ]
    },
    {
      "cell_type": "code",
      "source": [
        "#Processamento\n",
        "valortotal = precouni * qtderoupa\n",
        "comissao = valortotal * 0.05"
      ],
      "metadata": {
        "id": "AiuTCZ7G7ysd"
      },
      "execution_count": null,
      "outputs": []
    },
    {
      "cell_type": "code",
      "source": [
        "#Saida\n",
        "print(f\"Sua comissão é R${comissao:.2f}.\")"
      ],
      "metadata": {
        "colab": {
          "base_uri": "https://localhost:8080/"
        },
        "id": "uvom8oHF8Q8t",
        "outputId": "ea99eece-c6f3-442d-a6b7-f73df9f6b5c2"
      },
      "execution_count": null,
      "outputs": [
        {
          "output_type": "stream",
          "name": "stdout",
          "text": [
            "Sua comissão é R$10.50.\n"
          ]
        }
      ]
    },
    {
      "cell_type": "markdown",
      "source": [
        "Exercícios"
      ],
      "metadata": {
        "id": "ksGmKTqHnEWA"
      }
    },
    {
      "cell_type": "markdown",
      "source": [
        "##Exercio um"
      ],
      "metadata": {
        "id": "TFb1Q1uAnKqP"
      }
    },
    {
      "cell_type": "code",
      "source": [
        "#Entrada\n",
        "valorcarro = float(input(\"Quanto o carro custa? \"))"
      ],
      "metadata": {
        "colab": {
          "base_uri": "https://localhost:8080/"
        },
        "id": "jn0nNW3fnQs_",
        "outputId": "ae73044d-559c-4fa7-c6c3-c01250c5d1b6"
      },
      "execution_count": null,
      "outputs": [
        {
          "name": "stdout",
          "output_type": "stream",
          "text": [
            "Quanto o carro custa? 70.000\n"
          ]
        }
      ]
    },
    {
      "cell_type": "code",
      "source": [
        "#Processo\n",
        "impostotrib = (valorcarro * 45)/100"
      ],
      "metadata": {
        "id": "1DYUK_MLopuf"
      },
      "execution_count": null,
      "outputs": []
    },
    {
      "cell_type": "code",
      "source": [
        "valorfinal = (impostotrib * 28)/100"
      ],
      "metadata": {
        "id": "FNVcMmXYo2pu"
      },
      "execution_count": null,
      "outputs": []
    },
    {
      "cell_type": "code",
      "source": [
        "#Saida\n",
        "print(f\"O valor final do carro é {valorfinal:.2f}\")"
      ],
      "metadata": {
        "colab": {
          "base_uri": "https://localhost:8080/"
        },
        "id": "M6ZTolgtpIcW",
        "outputId": "96c6f849-d0ff-44d0-c310-6889bea380ad"
      },
      "execution_count": null,
      "outputs": [
        {
          "output_type": "stream",
          "name": "stdout",
          "text": [
            "O valor final do carro é 8.82\n"
          ]
        }
      ]
    },
    {
      "cell_type": "markdown",
      "source": [
        "##Exercício dois"
      ],
      "metadata": {
        "id": "SwyNflsYqpbW"
      }
    },
    {
      "cell_type": "code",
      "source": [
        "#Entrada\n",
        "hora = float(input(\"Informe a quantidade de horas: \"))\n",
        "min = float(input(\"Informe a quatidade de minutos:\"))"
      ],
      "metadata": {
        "colab": {
          "base_uri": "https://localhost:8080/"
        },
        "id": "CrsQ7G-Oq0Me",
        "outputId": "724720a8-f3d5-4e19-df19-22328df9aaf2"
      },
      "execution_count": null,
      "outputs": [
        {
          "name": "stdout",
          "output_type": "stream",
          "text": [
            "Informe a quantidade de horas: 12\n",
            "Informe a quatidade de minutos:52\n"
          ]
        }
      ]
    },
    {
      "cell_type": "code",
      "source": [
        "#Processamento\n",
        "minuto = min/60\n",
        "hora = minuto + hora"
      ],
      "metadata": {
        "id": "B-HfpJUyriE9"
      },
      "execution_count": null,
      "outputs": []
    },
    {
      "cell_type": "code",
      "source": [
        "print(f\"O resultado final é {hora:.2f}\")"
      ],
      "metadata": {
        "colab": {
          "base_uri": "https://localhost:8080/"
        },
        "id": "bi_r-GjKr47j",
        "outputId": "a5933db0-b87e-455f-b1ee-e561e70b95d0"
      },
      "execution_count": null,
      "outputs": [
        {
          "output_type": "stream",
          "name": "stdout",
          "text": [
            "O resultado final é 12.87\n"
          ]
        }
      ]
    },
    {
      "cell_type": "markdown",
      "source": [
        "##Exercício 3"
      ],
      "metadata": {
        "id": "xlnNT7IwsQhN"
      }
    },
    {
      "cell_type": "code",
      "source": [
        "horatrab = float(input(\"Quantas horas foram trabalhadas? \"))\n",
        "mintrab = float(input(\"Quantos minutos foram trablhados? \"))\n",
        "valorporhr = float(input(\"Quanto vale a hora trabalhada? \"))"
      ],
      "metadata": {
        "colab": {
          "base_uri": "https://localhost:8080/"
        },
        "id": "yuwoihyTsVIE",
        "outputId": "28fb5e1e-54b3-40e7-e36d-5779d39246f3"
      },
      "execution_count": null,
      "outputs": [
        {
          "name": "stdout",
          "output_type": "stream",
          "text": [
            "Quantas horas foram trabalhadas? 12\n",
            "Quantos minutos foram trablhados? 30\n",
            "Quanto vale a hora trabalhada? 41.50\n"
          ]
        }
      ]
    },
    {
      "cell_type": "code",
      "source": [
        "#Processamento\n",
        "convertido = hora + (min/60)\n",
        "salario = convertido * valorporhr\n",
        "salariofinal = (salario * 70)/100 + salario"
      ],
      "metadata": {
        "id": "dZj09TnQumzb"
      },
      "execution_count": null,
      "outputs": []
    },
    {
      "cell_type": "code",
      "source": [
        "#Saida\n",
        "print(f\"Seu salário com hora extra é R$ {salariofinal:.2f}\")"
      ],
      "metadata": {
        "colab": {
          "base_uri": "https://localhost:8080/"
        },
        "id": "3IJ12YhwvXyD",
        "outputId": "0e0c1538-9e46-4b0c-a58d-d6eeb57fb1af"
      },
      "execution_count": null,
      "outputs": [
        {
          "output_type": "stream",
          "name": "stdout",
          "text": [
            "Seu salário com hora extra é R$ 968.89\n"
          ]
        }
      ]
    }
  ]
}